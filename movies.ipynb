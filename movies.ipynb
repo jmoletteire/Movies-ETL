{
 "cells": [
  {
   "cell_type": "code",
   "execution_count": 1,
   "outputs": [],
   "source": [
    "import json\n",
    "import pandas as pd\n",
    "import numpy as np\n",
    "import re"
   ],
   "metadata": {
    "collapsed": false,
    "pycharm": {
     "name": "#%%\n"
    }
   }
  },
  {
   "cell_type": "markdown",
   "source": [
    "### Read in Data"
   ],
   "metadata": {
    "collapsed": false,
    "pycharm": {
     "name": "#%% md\n"
    }
   }
  },
  {
   "cell_type": "code",
   "execution_count": 2,
   "outputs": [],
   "source": [
    "file_dir = \"C:/Users/Jack/Desktop/Analysis Projects/Mod8-ETL/Data/\""
   ],
   "metadata": {
    "collapsed": false,
    "pycharm": {
     "name": "#%%\n"
    }
   }
  },
  {
   "cell_type": "code",
   "execution_count": 3,
   "outputs": [],
   "source": [
    "# Open json and store raw data in variable\n",
    "with open(f'{file_dir}wikipedia-movies.json', 'r') as file:\n",
    "    wiki_movies_raw = json.load(file)"
   ],
   "metadata": {
    "collapsed": false,
    "pycharm": {
     "name": "#%%\n"
    }
   }
  },
  {
   "cell_type": "code",
   "execution_count": 4,
   "outputs": [],
   "source": [
    "# Read CSV files\n",
    "kaggle_metadata = pd.read_csv(f'{file_dir}movies_metadata.csv', low_memory=False)\n",
    "ratings = pd.read_csv(f'{file_dir}ratings.csv')"
   ],
   "metadata": {
    "collapsed": false,
    "pycharm": {
     "name": "#%%\n"
    }
   }
  },
  {
   "cell_type": "code",
   "execution_count": 5,
   "outputs": [
    {
     "data": {
      "text/plain": "                                                 url    year  \\\n0  https://en.wikipedia.org/wiki/The_Adventures_o...  1990.0   \n1  https://en.wikipedia.org/wiki/After_Dark,_My_S...  1990.0   \n2   https://en.wikipedia.org/wiki/Air_America_(film)  1990.0   \n3    https://en.wikipedia.org/wiki/Alice_(1990_film)  1990.0   \n4      https://en.wikipedia.org/wiki/Almost_an_Angel  1990.0   \n\n                               imdb_link                            title  \\\n0  https://www.imdb.com/title/tt0098987/  The Adventures of Ford Fairlane   \n1  https://www.imdb.com/title/tt0098994/             After Dark, My Sweet   \n2  https://www.imdb.com/title/tt0099005/                      Air America   \n3  https://www.imdb.com/title/tt0099012/                            Alice   \n4  https://www.imdb.com/title/tt0099018/                  Almost an Angel   \n\n          Directed by                  Produced by  \\\n0        Renny Harlin   [Steve Perry, Joel Silver]   \n1         James Foley  [Ric Kidney, Robert Redlin]   \n2  Roger Spottiswoode               Daniel Melnick   \n3         Woody Allen              Robert Greenhut   \n4        John Cornell                 John Cornell   \n\n                                Screenplay by                     Story by  \\\n0  [David Arnott, James Cappe, Daniel Waters]  [David Arnott, James Cappe]   \n1                [James Foley, Robert Redlin]                          NaN   \n2                  [John Eskow, Richard Rush]                          NaN   \n3                                         NaN                          NaN   \n4                                         NaN                          NaN   \n\n                                            Based on  \\\n0                        [Characters, by Rex Weiner]   \n1  [the novel, After Dark, My Sweet, by, Jim Thom...   \n2             [Air America, by, Christopher Robbins]   \n3                                                NaN   \n4                                                NaN   \n\n                                            Starring  ... Predecessor  \\\n0  [Andrew Dice Clay, Wayne Newton, Priscilla Pre...  ...         NaN   \n1  [Jason Patric, Rachel Ward, Bruce Dern, George...  ...         NaN   \n2  [Mel Gibson, Robert Downey Jr., Nancy Travis, ...  ...         NaN   \n3  [Alec Baldwin, Blythe Danner, Judy Davis, Mia ...  ...         NaN   \n4        [Paul Hogan, Elias Koteas, Linda Kozlowski]  ...         NaN   \n\n  Founders Area served Products Services Russian Hebrew Revenue  \\\n0      NaN         NaN      NaN      NaN     NaN    NaN     NaN   \n1      NaN         NaN      NaN      NaN     NaN    NaN     NaN   \n2      NaN         NaN      NaN      NaN     NaN    NaN     NaN   \n3      NaN         NaN      NaN      NaN     NaN    NaN     NaN   \n4      NaN         NaN      NaN      NaN     NaN    NaN     NaN   \n\n  Operating income Polish  \n0              NaN    NaN  \n1              NaN    NaN  \n2              NaN    NaN  \n3              NaN    NaN  \n4              NaN    NaN  \n\n[5 rows x 193 columns]",
      "text/html": "<div>\n<style scoped>\n    .dataframe tbody tr th:only-of-type {\n        vertical-align: middle;\n    }\n\n    .dataframe tbody tr th {\n        vertical-align: top;\n    }\n\n    .dataframe thead th {\n        text-align: right;\n    }\n</style>\n<table border=\"1\" class=\"dataframe\">\n  <thead>\n    <tr style=\"text-align: right;\">\n      <th></th>\n      <th>url</th>\n      <th>year</th>\n      <th>imdb_link</th>\n      <th>title</th>\n      <th>Directed by</th>\n      <th>Produced by</th>\n      <th>Screenplay by</th>\n      <th>Story by</th>\n      <th>Based on</th>\n      <th>Starring</th>\n      <th>...</th>\n      <th>Predecessor</th>\n      <th>Founders</th>\n      <th>Area served</th>\n      <th>Products</th>\n      <th>Services</th>\n      <th>Russian</th>\n      <th>Hebrew</th>\n      <th>Revenue</th>\n      <th>Operating income</th>\n      <th>Polish</th>\n    </tr>\n  </thead>\n  <tbody>\n    <tr>\n      <th>0</th>\n      <td>https://en.wikipedia.org/wiki/The_Adventures_o...</td>\n      <td>1990.0</td>\n      <td>https://www.imdb.com/title/tt0098987/</td>\n      <td>The Adventures of Ford Fairlane</td>\n      <td>Renny Harlin</td>\n      <td>[Steve Perry, Joel Silver]</td>\n      <td>[David Arnott, James Cappe, Daniel Waters]</td>\n      <td>[David Arnott, James Cappe]</td>\n      <td>[Characters, by Rex Weiner]</td>\n      <td>[Andrew Dice Clay, Wayne Newton, Priscilla Pre...</td>\n      <td>...</td>\n      <td>NaN</td>\n      <td>NaN</td>\n      <td>NaN</td>\n      <td>NaN</td>\n      <td>NaN</td>\n      <td>NaN</td>\n      <td>NaN</td>\n      <td>NaN</td>\n      <td>NaN</td>\n      <td>NaN</td>\n    </tr>\n    <tr>\n      <th>1</th>\n      <td>https://en.wikipedia.org/wiki/After_Dark,_My_S...</td>\n      <td>1990.0</td>\n      <td>https://www.imdb.com/title/tt0098994/</td>\n      <td>After Dark, My Sweet</td>\n      <td>James Foley</td>\n      <td>[Ric Kidney, Robert Redlin]</td>\n      <td>[James Foley, Robert Redlin]</td>\n      <td>NaN</td>\n      <td>[the novel, After Dark, My Sweet, by, Jim Thom...</td>\n      <td>[Jason Patric, Rachel Ward, Bruce Dern, George...</td>\n      <td>...</td>\n      <td>NaN</td>\n      <td>NaN</td>\n      <td>NaN</td>\n      <td>NaN</td>\n      <td>NaN</td>\n      <td>NaN</td>\n      <td>NaN</td>\n      <td>NaN</td>\n      <td>NaN</td>\n      <td>NaN</td>\n    </tr>\n    <tr>\n      <th>2</th>\n      <td>https://en.wikipedia.org/wiki/Air_America_(film)</td>\n      <td>1990.0</td>\n      <td>https://www.imdb.com/title/tt0099005/</td>\n      <td>Air America</td>\n      <td>Roger Spottiswoode</td>\n      <td>Daniel Melnick</td>\n      <td>[John Eskow, Richard Rush]</td>\n      <td>NaN</td>\n      <td>[Air America, by, Christopher Robbins]</td>\n      <td>[Mel Gibson, Robert Downey Jr., Nancy Travis, ...</td>\n      <td>...</td>\n      <td>NaN</td>\n      <td>NaN</td>\n      <td>NaN</td>\n      <td>NaN</td>\n      <td>NaN</td>\n      <td>NaN</td>\n      <td>NaN</td>\n      <td>NaN</td>\n      <td>NaN</td>\n      <td>NaN</td>\n    </tr>\n    <tr>\n      <th>3</th>\n      <td>https://en.wikipedia.org/wiki/Alice_(1990_film)</td>\n      <td>1990.0</td>\n      <td>https://www.imdb.com/title/tt0099012/</td>\n      <td>Alice</td>\n      <td>Woody Allen</td>\n      <td>Robert Greenhut</td>\n      <td>NaN</td>\n      <td>NaN</td>\n      <td>NaN</td>\n      <td>[Alec Baldwin, Blythe Danner, Judy Davis, Mia ...</td>\n      <td>...</td>\n      <td>NaN</td>\n      <td>NaN</td>\n      <td>NaN</td>\n      <td>NaN</td>\n      <td>NaN</td>\n      <td>NaN</td>\n      <td>NaN</td>\n      <td>NaN</td>\n      <td>NaN</td>\n      <td>NaN</td>\n    </tr>\n    <tr>\n      <th>4</th>\n      <td>https://en.wikipedia.org/wiki/Almost_an_Angel</td>\n      <td>1990.0</td>\n      <td>https://www.imdb.com/title/tt0099018/</td>\n      <td>Almost an Angel</td>\n      <td>John Cornell</td>\n      <td>John Cornell</td>\n      <td>NaN</td>\n      <td>NaN</td>\n      <td>NaN</td>\n      <td>[Paul Hogan, Elias Koteas, Linda Kozlowski]</td>\n      <td>...</td>\n      <td>NaN</td>\n      <td>NaN</td>\n      <td>NaN</td>\n      <td>NaN</td>\n      <td>NaN</td>\n      <td>NaN</td>\n      <td>NaN</td>\n      <td>NaN</td>\n      <td>NaN</td>\n      <td>NaN</td>\n    </tr>\n  </tbody>\n</table>\n<p>5 rows × 193 columns</p>\n</div>"
     },
     "execution_count": 5,
     "metadata": {},
     "output_type": "execute_result"
    }
   ],
   "source": [
    "# Peek at raw data in a new DataFrame\n",
    "wiki_movies_df = pd.DataFrame(wiki_movies_raw)\n",
    "wiki_movies_df.head()"
   ],
   "metadata": {
    "collapsed": false,
    "pycharm": {
     "name": "#%%\n"
    }
   }
  },
  {
   "cell_type": "markdown",
   "source": [],
   "metadata": {
    "collapsed": false,
    "pycharm": {
     "name": "#%% md\n"
    }
   }
  },
  {
   "cell_type": "markdown",
   "source": [
    "### Begin cleaning data"
   ],
   "metadata": {
    "collapsed": false,
    "pycharm": {
     "name": "#%% md\n"
    }
   }
  },
  {
   "cell_type": "code",
   "execution_count": 6,
   "outputs": [
    {
     "data": {
      "text/plain": "7076"
     },
     "execution_count": 6,
     "metadata": {},
     "output_type": "execute_result"
    }
   ],
   "source": [
    "# Only include movies that have a Director and IMDB link\n",
    "wiki_movies = [movie for movie in wiki_movies_raw\n",
    "               if ('Director' in movie or 'Directed by' in movie)\n",
    "                and 'imdb_link' in movie\n",
    "                and 'No. of episodes' not in movie]\n",
    "# Check length\n",
    "len(wiki_movies)"
   ],
   "metadata": {
    "collapsed": false,
    "pycharm": {
     "name": "#%%\n"
    }
   }
  },
  {
   "cell_type": "code",
   "execution_count": 7,
   "outputs": [
    {
     "data": {
      "text/plain": "                                                 url  year  \\\n0  https://en.wikipedia.org/wiki/The_Adventures_o...  1990   \n1  https://en.wikipedia.org/wiki/After_Dark,_My_S...  1990   \n2   https://en.wikipedia.org/wiki/Air_America_(film)  1990   \n3    https://en.wikipedia.org/wiki/Alice_(1990_film)  1990   \n4      https://en.wikipedia.org/wiki/Almost_an_Angel  1990   \n\n                               imdb_link                            title  \\\n0  https://www.imdb.com/title/tt0098987/  The Adventures of Ford Fairlane   \n1  https://www.imdb.com/title/tt0098994/             After Dark, My Sweet   \n2  https://www.imdb.com/title/tt0099005/                      Air America   \n3  https://www.imdb.com/title/tt0099012/                            Alice   \n4  https://www.imdb.com/title/tt0099018/                  Almost an Angel   \n\n          Directed by                  Produced by  \\\n0        Renny Harlin   [Steve Perry, Joel Silver]   \n1         James Foley  [Ric Kidney, Robert Redlin]   \n2  Roger Spottiswoode               Daniel Melnick   \n3         Woody Allen              Robert Greenhut   \n4        John Cornell                 John Cornell   \n\n                                Screenplay by                     Story by  \\\n0  [David Arnott, James Cappe, Daniel Waters]  [David Arnott, James Cappe]   \n1                [James Foley, Robert Redlin]                          NaN   \n2                  [John Eskow, Richard Rush]                          NaN   \n3                                         NaN                          NaN   \n4                                         NaN                          NaN   \n\n                                            Based on  \\\n0                        [Characters, by Rex Weiner]   \n1  [the novel, After Dark, My Sweet, by, Jim Thom...   \n2             [Air America, by, Christopher Robbins]   \n3                                                NaN   \n4                                                NaN   \n\n                                            Starring  ... Hepburn Literally  \\\n0  [Andrew Dice Clay, Wayne Newton, Priscilla Pre...  ...     NaN       NaN   \n1  [Jason Patric, Rachel Ward, Bruce Dern, George...  ...     NaN       NaN   \n2  [Mel Gibson, Robert Downey Jr., Nancy Travis, ...  ...     NaN       NaN   \n3  [Alec Baldwin, Blythe Danner, Judy Davis, Mia ...  ...     NaN       NaN   \n4        [Paul Hogan, Elias Koteas, Linda Kozlowski]  ...     NaN       NaN   \n\n  Cantonese Chinese Yiddish Arabic Romanized Russian Hebrew Polish  \n0       NaN     NaN     NaN    NaN       NaN     NaN    NaN    NaN  \n1       NaN     NaN     NaN    NaN       NaN     NaN    NaN    NaN  \n2       NaN     NaN     NaN    NaN       NaN     NaN    NaN    NaN  \n3       NaN     NaN     NaN    NaN       NaN     NaN    NaN    NaN  \n4       NaN     NaN     NaN    NaN       NaN     NaN    NaN    NaN  \n\n[5 rows x 75 columns]",
      "text/html": "<div>\n<style scoped>\n    .dataframe tbody tr th:only-of-type {\n        vertical-align: middle;\n    }\n\n    .dataframe tbody tr th {\n        vertical-align: top;\n    }\n\n    .dataframe thead th {\n        text-align: right;\n    }\n</style>\n<table border=\"1\" class=\"dataframe\">\n  <thead>\n    <tr style=\"text-align: right;\">\n      <th></th>\n      <th>url</th>\n      <th>year</th>\n      <th>imdb_link</th>\n      <th>title</th>\n      <th>Directed by</th>\n      <th>Produced by</th>\n      <th>Screenplay by</th>\n      <th>Story by</th>\n      <th>Based on</th>\n      <th>Starring</th>\n      <th>...</th>\n      <th>Hepburn</th>\n      <th>Literally</th>\n      <th>Cantonese</th>\n      <th>Chinese</th>\n      <th>Yiddish</th>\n      <th>Arabic</th>\n      <th>Romanized</th>\n      <th>Russian</th>\n      <th>Hebrew</th>\n      <th>Polish</th>\n    </tr>\n  </thead>\n  <tbody>\n    <tr>\n      <th>0</th>\n      <td>https://en.wikipedia.org/wiki/The_Adventures_o...</td>\n      <td>1990</td>\n      <td>https://www.imdb.com/title/tt0098987/</td>\n      <td>The Adventures of Ford Fairlane</td>\n      <td>Renny Harlin</td>\n      <td>[Steve Perry, Joel Silver]</td>\n      <td>[David Arnott, James Cappe, Daniel Waters]</td>\n      <td>[David Arnott, James Cappe]</td>\n      <td>[Characters, by Rex Weiner]</td>\n      <td>[Andrew Dice Clay, Wayne Newton, Priscilla Pre...</td>\n      <td>...</td>\n      <td>NaN</td>\n      <td>NaN</td>\n      <td>NaN</td>\n      <td>NaN</td>\n      <td>NaN</td>\n      <td>NaN</td>\n      <td>NaN</td>\n      <td>NaN</td>\n      <td>NaN</td>\n      <td>NaN</td>\n    </tr>\n    <tr>\n      <th>1</th>\n      <td>https://en.wikipedia.org/wiki/After_Dark,_My_S...</td>\n      <td>1990</td>\n      <td>https://www.imdb.com/title/tt0098994/</td>\n      <td>After Dark, My Sweet</td>\n      <td>James Foley</td>\n      <td>[Ric Kidney, Robert Redlin]</td>\n      <td>[James Foley, Robert Redlin]</td>\n      <td>NaN</td>\n      <td>[the novel, After Dark, My Sweet, by, Jim Thom...</td>\n      <td>[Jason Patric, Rachel Ward, Bruce Dern, George...</td>\n      <td>...</td>\n      <td>NaN</td>\n      <td>NaN</td>\n      <td>NaN</td>\n      <td>NaN</td>\n      <td>NaN</td>\n      <td>NaN</td>\n      <td>NaN</td>\n      <td>NaN</td>\n      <td>NaN</td>\n      <td>NaN</td>\n    </tr>\n    <tr>\n      <th>2</th>\n      <td>https://en.wikipedia.org/wiki/Air_America_(film)</td>\n      <td>1990</td>\n      <td>https://www.imdb.com/title/tt0099005/</td>\n      <td>Air America</td>\n      <td>Roger Spottiswoode</td>\n      <td>Daniel Melnick</td>\n      <td>[John Eskow, Richard Rush]</td>\n      <td>NaN</td>\n      <td>[Air America, by, Christopher Robbins]</td>\n      <td>[Mel Gibson, Robert Downey Jr., Nancy Travis, ...</td>\n      <td>...</td>\n      <td>NaN</td>\n      <td>NaN</td>\n      <td>NaN</td>\n      <td>NaN</td>\n      <td>NaN</td>\n      <td>NaN</td>\n      <td>NaN</td>\n      <td>NaN</td>\n      <td>NaN</td>\n      <td>NaN</td>\n    </tr>\n    <tr>\n      <th>3</th>\n      <td>https://en.wikipedia.org/wiki/Alice_(1990_film)</td>\n      <td>1990</td>\n      <td>https://www.imdb.com/title/tt0099012/</td>\n      <td>Alice</td>\n      <td>Woody Allen</td>\n      <td>Robert Greenhut</td>\n      <td>NaN</td>\n      <td>NaN</td>\n      <td>NaN</td>\n      <td>[Alec Baldwin, Blythe Danner, Judy Davis, Mia ...</td>\n      <td>...</td>\n      <td>NaN</td>\n      <td>NaN</td>\n      <td>NaN</td>\n      <td>NaN</td>\n      <td>NaN</td>\n      <td>NaN</td>\n      <td>NaN</td>\n      <td>NaN</td>\n      <td>NaN</td>\n      <td>NaN</td>\n    </tr>\n    <tr>\n      <th>4</th>\n      <td>https://en.wikipedia.org/wiki/Almost_an_Angel</td>\n      <td>1990</td>\n      <td>https://www.imdb.com/title/tt0099018/</td>\n      <td>Almost an Angel</td>\n      <td>John Cornell</td>\n      <td>John Cornell</td>\n      <td>NaN</td>\n      <td>NaN</td>\n      <td>NaN</td>\n      <td>[Paul Hogan, Elias Koteas, Linda Kozlowski]</td>\n      <td>...</td>\n      <td>NaN</td>\n      <td>NaN</td>\n      <td>NaN</td>\n      <td>NaN</td>\n      <td>NaN</td>\n      <td>NaN</td>\n      <td>NaN</td>\n      <td>NaN</td>\n      <td>NaN</td>\n      <td>NaN</td>\n    </tr>\n  </tbody>\n</table>\n<p>5 rows × 75 columns</p>\n</div>"
     },
     "execution_count": 7,
     "metadata": {},
     "output_type": "execute_result"
    }
   ],
   "source": [
    "# Peek at new set of data by updating DataFrame\n",
    "wiki_movies_df = pd.DataFrame(wiki_movies)\n",
    "wiki_movies_df.head()"
   ],
   "metadata": {
    "collapsed": false,
    "pycharm": {
     "name": "#%%\n"
    }
   }
  },
  {
   "cell_type": "code",
   "execution_count": 8,
   "outputs": [],
   "source": [
    "def clean_movie(movie):\n",
    "    movie = dict(movie)\n",
    "\n",
    "    # Alternate Title column names\n",
    "    alt_titles_list = ['Also known as', 'Arabic', 'Cantonese', 'Chinese', 'French', 'Hangul', 'Hebrew', 'Hepburn', 'Japanese', 'Literally',  'Mandarin', 'McCune–Reischauer', 'Original title', 'Polish',  'Revised Romanization', 'Romanized', 'Russian', 'Simplified', 'Traditional', 'Yiddish']\n",
    "    alt_titles = {}\n",
    "\n",
    "    # Loop through alt. title keys\n",
    "    for key in alt_titles_list:\n",
    "\n",
    "        # If current key exists in movie object, add to alt. titles dict.\n",
    "        if key in movie:\n",
    "            alt_titles[key] = movie[key]\n",
    "            movie.pop(key)\n",
    "\n",
    "    # Add alt. titles dict. to movie object\n",
    "    if len(alt_titles) > 0:\n",
    "        movie['alt_titles'] = alt_titles\n",
    "\n",
    "    # Consolidate columns with the same data but different headers\n",
    "    def change_column_name(old_name, new_name):\n",
    "        if old_name in movie:\n",
    "            movie[new_name] = movie.pop(old_name)\n",
    "    change_column_name('Adaptation by', 'Writer(s)')\n",
    "    change_column_name('Country of origin', 'Country')\n",
    "    change_column_name('Directed by', 'Director')\n",
    "    change_column_name('Distributed by', 'Distributor')\n",
    "    change_column_name('Edited by', 'Editor(s)')\n",
    "    change_column_name('Length', 'Running time')\n",
    "    change_column_name('Original release', 'Release date')\n",
    "    change_column_name('Music by', 'Composer(s)')\n",
    "    change_column_name('Produced by', 'Producer(s)')\n",
    "    change_column_name('Producer', 'Producer(s)')\n",
    "    change_column_name('Productioncompanies ', 'Production company(s)')\n",
    "    change_column_name('Productioncompany ', 'Production company(s)')\n",
    "    change_column_name('Released', 'Release Date')\n",
    "    change_column_name('Release Date', 'Release date')\n",
    "    change_column_name('Screen story by', 'Writer(s)')\n",
    "    change_column_name('Screenplay by', 'Writer(s)')\n",
    "    change_column_name('Story by', 'Writer(s)')\n",
    "    change_column_name('Theme music composer', 'Composer(s)')\n",
    "    change_column_name('Written by', 'Writer(s)')\n",
    "\n",
    "    return movie"
   ],
   "metadata": {
    "collapsed": false,
    "pycharm": {
     "name": "#%%\n"
    }
   }
  },
  {
   "cell_type": "code",
   "execution_count": 9,
   "outputs": [],
   "source": [
    "clean_movies = [clean_movie(movie) for movie in wiki_movies]"
   ],
   "metadata": {
    "collapsed": false,
    "pycharm": {
     "name": "#%%\n"
    }
   }
  },
  {
   "cell_type": "code",
   "execution_count": 10,
   "outputs": [
    {
     "data": {
      "text/plain": "['Animation by',\n 'Audio format',\n 'Based on',\n 'Box office',\n 'Budget',\n 'Cinematography',\n 'Color process',\n 'Composer(s)',\n 'Country',\n 'Created by',\n 'Director',\n 'Distributor',\n 'Editor(s)',\n 'Executive producer(s)',\n 'Followed by',\n 'Genre',\n 'Label',\n 'Language',\n 'Narrated by',\n 'Original language(s)',\n 'Original network',\n 'Picture format',\n 'Preceded by',\n 'Producer(s)',\n 'Production company(s)',\n 'Production location(s)',\n 'Recorded',\n 'Release date',\n 'Running time',\n 'Starring',\n 'Suggested by',\n 'Venue',\n 'Voices of',\n 'Writer(s)',\n 'alt_titles',\n 'imdb_link',\n 'title',\n 'url',\n 'year']"
     },
     "execution_count": 10,
     "metadata": {},
     "output_type": "execute_result"
    }
   ],
   "source": [
    "# Create clean DataFrame, then print column names in alphabetical order\n",
    "wiki_movies_df = pd.DataFrame(clean_movies)\n",
    "sorted(wiki_movies_df.columns.tolist())"
   ],
   "metadata": {
    "collapsed": false,
    "pycharm": {
     "name": "#%%\n"
    }
   }
  },
  {
   "cell_type": "code",
   "execution_count": 11,
   "outputs": [],
   "source": [
    "# Extract each movie's IMDB ID from its URL by searching for a regex\n",
    "wiki_movies_df['imdb_id'] = wiki_movies_df['imdb_link'].str.extract(r'(tt\\d{7})')"
   ],
   "metadata": {
    "collapsed": false,
    "pycharm": {
     "name": "#%%\n"
    }
   }
  },
  {
   "cell_type": "code",
   "execution_count": 12,
   "outputs": [
    {
     "data": {
      "text/plain": "7033"
     },
     "execution_count": 12,
     "metadata": {},
     "output_type": "execute_result"
    }
   ],
   "source": [
    "wiki_movies_df.drop_duplicates(subset='imdb_id', inplace=True)\n",
    "len(wiki_movies_df)"
   ],
   "metadata": {
    "collapsed": false,
    "pycharm": {
     "name": "#%%\n"
    }
   }
  },
  {
   "cell_type": "code",
   "execution_count": 13,
   "outputs": [
    {
     "data": {
      "text/plain": "url                       7033\nyear                      7033\nimdb_link                 7033\ntitle                     7032\nBased on                  2181\nStarring                  6849\nNarrated by                281\nCinematography            6342\nRelease date              7001\nRunning time              6894\nCountry                   6797\nLanguage                  6789\nBudget                    4738\nBox office                5485\nDirector                  7033\nDistributor               6676\nEditor(s)                 6485\nComposer(s)               6515\nProducer(s)               6831\nProduction company(s)     5355\nWriter(s)                 6834\nGenre                      110\nOriginal language(s)       158\nOriginal network           125\nExecutive producer(s)       97\nProduction location(s)      47\nPicture format              64\nAudio format                61\nVoices of                    2\nFollowed by                  9\nCreated by                  10\nPreceded by                 10\nSuggested by                 1\nalt_titles                  21\nRecorded                     2\nVenue                        1\nLabel                        2\nAnimation by                 2\nColor process                1\nimdb_id                   7033\ndtype: int64"
     },
     "execution_count": 13,
     "metadata": {},
     "output_type": "execute_result"
    }
   ],
   "source": [
    "wiki_movies_df.count()"
   ],
   "metadata": {
    "collapsed": false,
    "pycharm": {
     "name": "#%%\n"
    }
   }
  },
  {
   "cell_type": "code",
   "execution_count": 14,
   "outputs": [],
   "source": [
    "# Drop columns that are at least 90% null\n",
    "cols_to_keep = [col for col in wiki_movies_df.columns\n",
    "                if wiki_movies_df[col].isnull().sum() / len(wiki_movies_df) < 0.9]\n",
    "wiki_movies_df = wiki_movies_df[cols_to_keep]"
   ],
   "metadata": {
    "collapsed": false,
    "pycharm": {
     "name": "#%%\n"
    }
   }
  },
  {
   "cell_type": "code",
   "execution_count": 15,
   "outputs": [
    {
     "data": {
      "text/plain": "url                      object\nyear                      int64\nimdb_link                object\ntitle                    object\nBased on                 object\nStarring                 object\nCinematography           object\nRelease date             object\nRunning time             object\nCountry                  object\nLanguage                 object\nBudget                   object\nBox office               object\nDirector                 object\nDistributor              object\nEditor(s)                object\nComposer(s)              object\nProducer(s)              object\nProduction company(s)    object\nWriter(s)                object\nimdb_id                  object\ndtype: object"
     },
     "execution_count": 15,
     "metadata": {},
     "output_type": "execute_result"
    }
   ],
   "source": [
    "# Check which data types need to be converted\n",
    "wiki_movies_df.dtypes"
   ],
   "metadata": {
    "collapsed": false,
    "pycharm": {
     "name": "#%%\n"
    }
   }
  },
  {
   "cell_type": "markdown",
   "source": [],
   "metadata": {
    "collapsed": false,
    "pycharm": {
     "name": "#%% md\n"
    }
   }
  },
  {
   "cell_type": "markdown",
   "source": [
    "### Parse Box Office Data"
   ],
   "metadata": {
    "collapsed": false,
    "pycharm": {
     "name": "#%% md\n"
    }
   }
  },
  {
   "cell_type": "code",
   "execution_count": 16,
   "outputs": [],
   "source": [
    "# Create series for box office data, dropping any null rows\n",
    "box_office = wiki_movies_df['Box office'].dropna()"
   ],
   "metadata": {
    "collapsed": false,
    "pycharm": {
     "name": "#%%\n"
    }
   }
  },
  {
   "cell_type": "code",
   "execution_count": 17,
   "outputs": [],
   "source": [
    "# Format box office series data if stored as a List\n",
    "# Separate list data with a space to create new string\n",
    "box_office = box_office.apply(lambda x: ' '.join(x) if type(x) == list else x)"
   ],
   "metadata": {
    "collapsed": false,
    "pycharm": {
     "name": "#%%\n"
    }
   }
  },
  {
   "cell_type": "code",
   "execution_count": 18,
   "outputs": [
    {
     "data": {
      "text/plain": "0          $21.4 million\n1           $2.7 million\n2            $57,718,089\n3             $7,331,647\n4       $6,939,946 (USA)\n              ...       \n7070       $19.4 million\n7071       $41.9 million\n7072       $76.1 million\n7073       $38.4 million\n7074        $5.5 million\nName: Box office, Length: 5485, dtype: object"
     },
     "execution_count": 18,
     "metadata": {},
     "output_type": "execute_result"
    }
   ],
   "source": [
    "box_office"
   ],
   "metadata": {
    "collapsed": false,
    "pycharm": {
     "name": "#%%\n"
    }
   }
  },
  {
   "cell_type": "code",
   "execution_count": 19,
   "outputs": [],
   "source": [
    "# Format all Box Office values given as a range\n",
    "box_office = box_office.str.replace(r\"\\$.*[-—–](?![a-z])\", \"$\", regex=True)"
   ],
   "metadata": {
    "collapsed": false,
    "pycharm": {
     "name": "#%%\n"
    }
   }
  },
  {
   "cell_type": "code",
   "execution_count": 20,
   "outputs": [],
   "source": [
    "# Two main forms for Box Office data\n",
    "# Form one: e.g., \"$123.4 million\"\n",
    "form_one = r\"\\$\\s*\\d+\\.?\\d*\\s*[mb]illi?on\""
   ],
   "metadata": {
    "collapsed": false,
    "pycharm": {
     "name": "#%%\n"
    }
   }
  },
  {
   "cell_type": "code",
   "execution_count": 21,
   "outputs": [
    {
     "data": {
      "text/plain": "3909"
     },
     "execution_count": 21,
     "metadata": {},
     "output_type": "execute_result"
    }
   ],
   "source": [
    "# Number of entries formatted in form one\n",
    "box_office.str.contains(form_one, flags=re.IGNORECASE, na=False).sum()"
   ],
   "metadata": {
    "collapsed": false,
    "pycharm": {
     "name": "#%%\n"
    }
   }
  },
  {
   "cell_type": "code",
   "execution_count": 22,
   "outputs": [],
   "source": [
    "# Form two: e.g., \"$123,456,789\"\n",
    "form_two = r\"\\$\\s*\\d{1,3}(?:[,|.]\\d{3})+(?!\\s[mb]illi?on)\""
   ],
   "metadata": {
    "collapsed": false,
    "pycharm": {
     "name": "#%%\n"
    }
   }
  },
  {
   "cell_type": "code",
   "execution_count": 23,
   "outputs": [
    {
     "data": {
      "text/plain": "1559"
     },
     "execution_count": 23,
     "metadata": {},
     "output_type": "execute_result"
    }
   ],
   "source": [
    "# Number of entries formatted in form two\n",
    "box_office.str.contains(form_two, flags=re.IGNORECASE, na=False).sum()"
   ],
   "metadata": {
    "collapsed": false,
    "pycharm": {
     "name": "#%%\n"
    }
   }
  },
  {
   "cell_type": "code",
   "execution_count": 24,
   "outputs": [],
   "source": [
    "# Create series for each set of format matches\n",
    "matches_form_one = box_office.str.contains(form_one, flags=re.IGNORECASE, na=False)\n",
    "matches_form_two = box_office.str.contains(form_two, flags=re.IGNORECASE, na=False)"
   ],
   "metadata": {
    "collapsed": false,
    "pycharm": {
     "name": "#%%\n"
    }
   }
  },
  {
   "cell_type": "code",
   "execution_count": 25,
   "outputs": [
    {
     "data": {
      "text/plain": "600                      $5000 (US)\n1070                     35,254,617\n1480                     £3 million\n1865                   ¥1.1 billion\n2032                            N/A\n2091                           $309\n2665    926,423 admissions (France)\n3631                            TBA\n3879       CN¥3.650 million (China)\n4116                     £7,385,434\n4306                            $30\n4561        $45.2k (only in Turkey)\n5447                          £2.56\n5784                       413 733$\n6013                        Unknown\n6369                          $111k\n6370                           $588\n6593                 less than $372\n6843                        8 crore\nName: Box office, dtype: object"
     },
     "execution_count": 25,
     "metadata": {},
     "output_type": "execute_result"
    }
   ],
   "source": [
    "# Remaining un-matched values\n",
    "box_office[~matches_form_one & ~matches_form_two]"
   ],
   "metadata": {
    "collapsed": false,
    "pycharm": {
     "name": "#%%\n"
    }
   }
  },
  {
   "cell_type": "code",
   "execution_count": 26,
   "outputs": [],
   "source": [
    "def parse_dollars(s):\n",
    "    # if s is not a string, return NaN\n",
    "    if type(s) != str:\n",
    "        return np.nan\n",
    "\n",
    "    # if input is of the form $###.# million\n",
    "    if re.match(r'\\$\\s*\\d+\\.?\\d*\\s*milli?on', s, flags=re.IGNORECASE):\n",
    "        # remove dollar sign and \" million\"\n",
    "        s = re.sub('\\$|\\s|[a-zA-Z]', '', s)\n",
    "        # convert to float and multiply by a million\n",
    "        val = float(s) * 10**6\n",
    "        # return value\n",
    "        return val\n",
    "\n",
    "    # if input is of the form $###.# billion\n",
    "    elif re.match(r'\\$\\s*\\d+\\.?\\d*\\s*billi?on', s, flags=re.IGNORECASE):\n",
    "        # remove dollar sign and \" billion\"\n",
    "        s = re.sub('\\$|\\s|[a-zA-Z]', '', s)\n",
    "        # convert to float and multiply by a billion\n",
    "        val = float(s) * 10**9\n",
    "        # return value\n",
    "        return val\n",
    "\n",
    "    # if input is of the form $###,###,###\n",
    "    elif re.match(r'\\$\\s*\\d{1,3}(?:[,\\.]\\d{3})+(?![mb]illion)', s, flags=re.IGNORECASE):\n",
    "        # remove dollar sign and commas\n",
    "        s = re.sub('\\$|,', '', s)\n",
    "        # convert to float\n",
    "        val = float(s)\n",
    "        # return value\n",
    "        return val\n",
    "\n",
    "    # otherwise, return NaN\n",
    "    return np.nan"
   ],
   "metadata": {
    "collapsed": false,
    "pycharm": {
     "name": "#%%\n"
    }
   }
  },
  {
   "cell_type": "code",
   "execution_count": 27,
   "outputs": [],
   "source": [
    "# Create new box office column by applying function parse_dollars()\n",
    "# to 'box_office' series\n",
    "wiki_movies_df['box_office'] = box_office.str.extract(f'({form_one}|{form_two})', flags=re.IGNORECASE)[0].apply(parse_dollars)"
   ],
   "metadata": {
    "collapsed": false,
    "pycharm": {
     "name": "#%%\n"
    }
   }
  },
  {
   "cell_type": "code",
   "execution_count": 28,
   "outputs": [
    {
     "data": {
      "text/plain": "0       21400000.0\n1        2700000.0\n2       57718089.0\n3        7331647.0\n4        6939946.0\n           ...    \n7071    41900000.0\n7072    76100000.0\n7073    38400000.0\n7074     5500000.0\n7075           NaN\nName: box_office, Length: 7033, dtype: float64"
     },
     "execution_count": 28,
     "metadata": {},
     "output_type": "execute_result"
    }
   ],
   "source": [
    "wiki_movies_df['box_office']"
   ],
   "metadata": {
    "collapsed": false,
    "pycharm": {
     "name": "#%%\n"
    }
   }
  },
  {
   "cell_type": "code",
   "execution_count": 29,
   "outputs": [],
   "source": [
    "# Drop old 'Box office' column from the DF\n",
    "wiki_movies_df.drop('Box office', axis=1, inplace=True)"
   ],
   "metadata": {
    "collapsed": false,
    "pycharm": {
     "name": "#%%\n"
    }
   }
  },
  {
   "cell_type": "markdown",
   "source": [
    "### Parse Budget Data"
   ],
   "metadata": {
    "collapsed": false,
    "pycharm": {
     "name": "#%% md\n"
    }
   }
  },
  {
   "cell_type": "code",
   "execution_count": 30,
   "outputs": [],
   "source": [
    "# Create series for budget data\n",
    "budget = wiki_movies_df['Budget'].dropna()"
   ],
   "metadata": {
    "collapsed": false,
    "pycharm": {
     "name": "#%%\n"
    }
   }
  },
  {
   "cell_type": "code",
   "execution_count": 31,
   "outputs": [],
   "source": [
    "# Convert any lists to strings\n",
    "budget = budget.map(lambda x: ' '.join(x) if type(x) == list else x)"
   ],
   "metadata": {
    "collapsed": false,
    "pycharm": {
     "name": "#%%\n"
    }
   }
  },
  {
   "cell_type": "code",
   "execution_count": 32,
   "outputs": [],
   "source": [
    "# Convert budgets given in ranges\n",
    "budget = budget.str.replace(r'\\$.*[-—–](?![a-z])', '$', regex=True)"
   ],
   "metadata": {
    "collapsed": false,
    "pycharm": {
     "name": "#%%\n"
    }
   }
  },
  {
   "cell_type": "code",
   "execution_count": 33,
   "outputs": [
    {
     "data": {
      "text/plain": "4363"
     },
     "execution_count": 33,
     "metadata": {},
     "output_type": "execute_result"
    }
   ],
   "source": [
    "# Two main forms for Budget data\n",
    "# Form one: e.g., \"$123.4 million\"\n",
    "form_one = r\"\\$\\s*\\d+\\.?\\d*\\s*[mb]illi?on\"\n",
    "# Number of entries formatted in form one\n",
    "budget.str.contains(form_one, flags=re.IGNORECASE, na=False).sum()"
   ],
   "metadata": {
    "collapsed": false,
    "pycharm": {
     "name": "#%%\n"
    }
   }
  },
  {
   "cell_type": "code",
   "execution_count": 34,
   "outputs": [
    {
     "data": {
      "text/plain": "339"
     },
     "execution_count": 34,
     "metadata": {},
     "output_type": "execute_result"
    }
   ],
   "source": [
    "# Form two: e.g., \"$123,456,789\"\n",
    "form_two = r\"\\$\\s*\\d{1,3}(?:[,|.]\\d{3})+(?!\\s[mb]illi?on)\"\n",
    "# Number of entries formatted in form two\n",
    "budget.str.contains(form_two, flags=re.IGNORECASE, na=False).sum()"
   ],
   "metadata": {
    "collapsed": false,
    "pycharm": {
     "name": "#%%\n"
    }
   }
  },
  {
   "cell_type": "code",
   "execution_count": 35,
   "outputs": [],
   "source": [
    "# Create series for each set of format matches\n",
    "matches_form_one = budget.str.contains(form_one, flags=re.IGNORECASE, na=False)\n",
    "matches_form_two = budget.str.contains(form_two, flags=re.IGNORECASE, na=False)"
   ],
   "metadata": {
    "collapsed": false,
    "pycharm": {
     "name": "#%%\n"
    }
   }
  },
  {
   "cell_type": "code",
   "execution_count": 36,
   "outputs": [
    {
     "name": "stderr",
     "output_type": "stream",
     "text": [
      "C:\\Users\\Jack\\anaconda3\\envs\\PythonData\\lib\\site-packages\\ipykernel_launcher.py:2: FutureWarning: The default value of regex will change from True to False in a future version.\n",
      "  \n"
     ]
    }
   ],
   "source": [
    "# Remove citation references\n",
    "budget = budget.str.replace(r'\\[\\d+\\]\\s*', '')"
   ],
   "metadata": {
    "collapsed": false,
    "pycharm": {
     "name": "#%%\n"
    }
   }
  },
  {
   "cell_type": "code",
   "execution_count": 37,
   "outputs": [
    {
     "data": {
      "text/plain": "136                         Unknown\n204     60 million Norwegian Kroner\n478                         Unknown\n973                     $34 million\n1126                   $120 million\n1226                        Unknown\n1278                            HBO\n1374                     £6,000,000\n1397                     13 million\n1480                   £2.8 million\n1734                   CAD2,000,000\n1913     PHP 85 million (estimated)\n1948                    102,888,900\n1953                   3,500,000 DM\n1973                     ₤2,300,874\n2281                     $14 milion\n2451                     ₤6,350,000\n3144                   € 40 million\n3360                   $150 million\n3418                        $218.32\n3802                   £4.2 million\n3906                            N/A\n3959                    760,000 USD\n4470                       19 crore\n4641                    £17 million\n5034                  $$200 million\n5055                   $155 million\n5419                    $40 million\n5424                            N/A\n5447                     £4 million\n5671                    €14 million\n5687                   $ dead link]\n6385                  £ 12 million \n6593                     £3 million\n6821                  £12.9 million\n6843                      3.5 crore\n6895                        919,000\n7070                   €4.3 million\nName: Budget, dtype: object"
     },
     "execution_count": 37,
     "metadata": {},
     "output_type": "execute_result"
    }
   ],
   "source": [
    "# All remaining un-matched values\n",
    "budget[~matches_form_one & ~matches_form_two]"
   ],
   "metadata": {
    "collapsed": false,
    "pycharm": {
     "name": "#%%\n"
    }
   }
  },
  {
   "cell_type": "code",
   "execution_count": 38,
   "outputs": [],
   "source": [
    "# Parse budget values and create new column\n",
    "wiki_movies_df['budget'] = budget.str.extract(f'({form_one}|{form_two})', flags=re.IGNORECASE)[0].apply(parse_dollars)"
   ],
   "metadata": {
    "collapsed": false,
    "pycharm": {
     "name": "#%%\n"
    }
   }
  },
  {
   "cell_type": "code",
   "execution_count": 39,
   "outputs": [],
   "source": [
    "# Drop old Budget column\n",
    "wiki_movies_df.drop('Budget', axis=1, inplace=True)"
   ],
   "metadata": {
    "collapsed": false,
    "pycharm": {
     "name": "#%%\n"
    }
   }
  },
  {
   "cell_type": "markdown",
   "source": [
    "### Parse Release Date"
   ],
   "metadata": {
    "collapsed": false,
    "pycharm": {
     "name": "#%% md\n"
    }
   }
  },
  {
   "cell_type": "code",
   "execution_count": 40,
   "outputs": [],
   "source": [
    "# Create series for release date\n",
    "release_date = wiki_movies_df['Release date'].dropna().apply(lambda x: ' '.join(x) if type(x) == list else x)"
   ],
   "metadata": {
    "collapsed": false,
    "pycharm": {
     "name": "#%%\n"
    }
   }
  },
  {
   "cell_type": "code",
   "execution_count": 41,
   "outputs": [],
   "source": [
    "# The forms we'll be parsing are:\n",
    "# 1. Full month name, one- to two-digit day, four-digit year (i.e., January 1, 2000)\n",
    "# 2. Four-digit year, two-digit month, two-digit day, with any separator (i.e., 2000-01-01)\n",
    "# 3. Full month name, four-digit year (i.e., January 2000)\n",
    "# 4. Four-digit year\n",
    "form_one = r'(?:January|February|March|April|May|June|July|August|September|October|November|December)\\s[123]?\\d,\\s\\d{4}'\n",
    "form_two = r'\\d{4}.[01]\\d.[123]\\d'\n",
    "form_three = r'(?:January|February|March|April|May|June|July|August|September|October|November|December)\\s\\d{4}'\n",
    "form_four = r'\\d{4}'"
   ],
   "metadata": {
    "collapsed": false,
    "pycharm": {
     "name": "#%%\n"
    }
   }
  },
  {
   "cell_type": "code",
   "execution_count": 42,
   "outputs": [],
   "source": [
    "wiki_movies_df['release_date'] = pd.to_datetime(release_date.str.extract(f'({form_one}|{form_two}|{form_three}|{form_four})', flags=re.IGNORECASE)[0], infer_datetime_format=True)"
   ],
   "metadata": {
    "collapsed": false,
    "pycharm": {
     "name": "#%%\n"
    }
   }
  },
  {
   "cell_type": "markdown",
   "source": [
    "### Parse Running Time"
   ],
   "metadata": {
    "collapsed": false,
    "pycharm": {
     "name": "#%% md\n"
    }
   }
  },
  {
   "cell_type": "code",
   "execution_count": 43,
   "outputs": [],
   "source": [
    "running_time = wiki_movies_df['Running time'].dropna().apply(lambda x: ' '.join(x) if type(x) == list else x)"
   ],
   "metadata": {
    "collapsed": false,
    "pycharm": {
     "name": "#%%\n"
    }
   }
  },
  {
   "cell_type": "code",
   "execution_count": 44,
   "outputs": [
    {
     "data": {
      "text/plain": "0                                 102 minutes\n1                                 114 minutes\n2                                 113 minutes\n3                                 106 minutes\n4                                  95 minutes\n                        ...                  \n7071                               90 minutes\n7072                              132 minutes\n7073                              120 minutes\n7074                              123 minutes\n7075    Variable; 90 minutes for default path\nName: Running time, Length: 6894, dtype: object"
     },
     "execution_count": 44,
     "metadata": {},
     "output_type": "execute_result"
    }
   ],
   "source": [
    "running_time"
   ],
   "metadata": {
    "collapsed": false,
    "pycharm": {
     "name": "#%%\n"
    }
   }
  },
  {
   "cell_type": "code",
   "execution_count": 45,
   "outputs": [
    {
     "data": {
      "text/plain": "1347    25 : 03\n1551     varies\n3925    4 hours\nName: Running time, dtype: object"
     },
     "execution_count": 45,
     "metadata": {},
     "output_type": "execute_result"
    }
   ],
   "source": [
    "# Check entries that don't match usual format (e.g., \"100 minutes\")\n",
    "running_time[running_time.str.contains(r'\\d*\\s*m', flags=re.IGNORECASE, na=False) != True]"
   ],
   "metadata": {
    "collapsed": false,
    "pycharm": {
     "name": "#%%\n"
    }
   }
  },
  {
   "cell_type": "code",
   "execution_count": 46,
   "outputs": [],
   "source": [
    "running_time_extract = running_time.str.extract(r'(\\d+)\\s*ho?u?r?s?\\s*(\\d*)|(\\d+)\\s*m')\n",
    "running_time_extract = running_time_extract.apply(lambda col: pd.to_numeric(col, errors='coerce')).fillna(0)"
   ],
   "metadata": {
    "collapsed": false,
    "pycharm": {
     "name": "#%%\n"
    }
   }
  },
  {
   "cell_type": "code",
   "execution_count": 47,
   "outputs": [],
   "source": [
    "wiki_movies_df['running_time'] = running_time_extract.apply(lambda row: row[0]*60 + row[1] if row[2] == 0 else row[2], axis=1)\n",
    "wiki_movies_df.drop('Running time', axis=1, inplace=True)"
   ],
   "metadata": {
    "collapsed": false,
    "pycharm": {
     "name": "#%%\n"
    }
   }
  },
  {
   "cell_type": "code",
   "execution_count": 48,
   "outputs": [
    {
     "data": {
      "text/plain": "                                                    url  year  \\\n2451  https://en.wikipedia.org/wiki/An_Ideal_Husband...  1999   \n930              https://en.wikipedia.org/wiki/Crooklyn  1994   \n543   https://en.wikipedia.org/wiki/Love_Crimes_(199...  1992   \n2052    https://en.wikipedia.org/wiki/She%27s_So_Lovely  1997   \n1520      https://en.wikipedia.org/wiki/Dear_God_(film)  1996   \n\n                                  imdb_link             title  \\\n2451  https://www.imdb.com/title/tt0122541/  An Ideal Husband   \n930   https://www.imdb.com/title/tt0109504/          Crooklyn   \n543   https://www.imdb.com/title/tt0102340/       Love Crimes   \n2052  https://www.imdb.com/title/tt0120112/   She's So Lovely   \n1520  https://www.imdb.com/title/tt0116059/          Dear God   \n\n                                 Based on  \\\n2451  [An Ideal Husband, by, Oscar Wilde]   \n930                                   NaN   \n543                                   NaN   \n2052                                  NaN   \n1520                                  NaN   \n\n                                               Starring    Cinematography  \\\n2451  [Cate Blanchett, Minnie Driver, Rupert Everett...     David Johnson   \n930   [Alfre Woodard, Delroy Lindo, Spike Lee, Zelda...       Arthur Jafa   \n543   [Sean Young, Patrick Bergin, Arnetia Walker, J...     Jack N. Green   \n2052  [Sean Penn, Robin Wright Penn, Harry Dean Stan...  Thierry Arbogast   \n1520  [Greg Kinnear, Laurie Metcalf, Maria Pitillo, ...    Charles Minsky   \n\n                                           Release date         Country  \\\n2451  [16 April 1999, (, 1999-04-16, ), (UK), 18 Jun...  United Kingdom   \n930                    [May 13, 1994, (, 1994-05-13, )]   United States   \n543                [January 24, 1992, (, 1992-01-24, )]   United States   \n2052                [August 29, 1997, (, 1997-08-29, )]   United States   \n1520                                   November 1, 1996   United States   \n\n     Language  ...                          Editor(s)  \\\n2451  English  ...                        Guy Bensley   \n930   English  ...              Barry Alexander Brown   \n543   English  ...  [Nicholas C. Smith, Mike Jackson]   \n2052  English  ...                  Petra von Oelffen   \n1520  English  ...                  Debra Neil-Fisher   \n\n                                Composer(s)  \\\n2451                           Charlie Mole   \n930                       Terence Blanchard   \n543                           Graeme Revell   \n2052                       Joseph Vitarelli   \n1520  [James Patrick Dunne, Jeremy Lubbock]   \n\n                                          Producer(s)  \\\n2451  [Barnaby Thompson, Bruce Davey, Uri Fruchtmann]   \n930                                         Spike Lee   \n543                    [Lizzie Borden, Rudy Langlais]   \n2052                                    René Cleitman   \n1520                                   Mario Iscovich   \n\n              Production company(s)  \\\n2451                            NaN   \n930   40 Acres and a Mule Filmworks   \n543                             NaN   \n2052                            NaN   \n1520           Rysher Entertainment   \n\n                                              Writer(s)    imdb_id  \\\n2451                                      Oliver Parker  tt0122541   \n930                                   Joie Susannah Lee  tt0109504   \n543   [Screenplay:, Allan Moyle, Laurie Frank, Story...  tt0102340   \n2052                                    John Cassavetes  tt0120112   \n1520                         [Warren Leight, Ed Kaplan]  tt0116059   \n\n      box_office      budget  release_date  running_time  \n2451  18542974.0         NaN    1999-04-01          97.0  \n930   13642861.0  14000000.0    1994-05-13         115.0  \n543    2287928.0   6000000.0    1992-01-24          84.0  \n2052   7281450.0  18000000.0    1997-08-29         100.0  \n1520   7138523.0  22000000.0    1996-11-01         112.0  \n\n[5 rows x 22 columns]",
      "text/html": "<div>\n<style scoped>\n    .dataframe tbody tr th:only-of-type {\n        vertical-align: middle;\n    }\n\n    .dataframe tbody tr th {\n        vertical-align: top;\n    }\n\n    .dataframe thead th {\n        text-align: right;\n    }\n</style>\n<table border=\"1\" class=\"dataframe\">\n  <thead>\n    <tr style=\"text-align: right;\">\n      <th></th>\n      <th>url</th>\n      <th>year</th>\n      <th>imdb_link</th>\n      <th>title</th>\n      <th>Based on</th>\n      <th>Starring</th>\n      <th>Cinematography</th>\n      <th>Release date</th>\n      <th>Country</th>\n      <th>Language</th>\n      <th>...</th>\n      <th>Editor(s)</th>\n      <th>Composer(s)</th>\n      <th>Producer(s)</th>\n      <th>Production company(s)</th>\n      <th>Writer(s)</th>\n      <th>imdb_id</th>\n      <th>box_office</th>\n      <th>budget</th>\n      <th>release_date</th>\n      <th>running_time</th>\n    </tr>\n  </thead>\n  <tbody>\n    <tr>\n      <th>2451</th>\n      <td>https://en.wikipedia.org/wiki/An_Ideal_Husband...</td>\n      <td>1999</td>\n      <td>https://www.imdb.com/title/tt0122541/</td>\n      <td>An Ideal Husband</td>\n      <td>[An Ideal Husband, by, Oscar Wilde]</td>\n      <td>[Cate Blanchett, Minnie Driver, Rupert Everett...</td>\n      <td>David Johnson</td>\n      <td>[16 April 1999, (, 1999-04-16, ), (UK), 18 Jun...</td>\n      <td>United Kingdom</td>\n      <td>English</td>\n      <td>...</td>\n      <td>Guy Bensley</td>\n      <td>Charlie Mole</td>\n      <td>[Barnaby Thompson, Bruce Davey, Uri Fruchtmann]</td>\n      <td>NaN</td>\n      <td>Oliver Parker</td>\n      <td>tt0122541</td>\n      <td>18542974.0</td>\n      <td>NaN</td>\n      <td>1999-04-01</td>\n      <td>97.0</td>\n    </tr>\n    <tr>\n      <th>930</th>\n      <td>https://en.wikipedia.org/wiki/Crooklyn</td>\n      <td>1994</td>\n      <td>https://www.imdb.com/title/tt0109504/</td>\n      <td>Crooklyn</td>\n      <td>NaN</td>\n      <td>[Alfre Woodard, Delroy Lindo, Spike Lee, Zelda...</td>\n      <td>Arthur Jafa</td>\n      <td>[May 13, 1994, (, 1994-05-13, )]</td>\n      <td>United States</td>\n      <td>English</td>\n      <td>...</td>\n      <td>Barry Alexander Brown</td>\n      <td>Terence Blanchard</td>\n      <td>Spike Lee</td>\n      <td>40 Acres and a Mule Filmworks</td>\n      <td>Joie Susannah Lee</td>\n      <td>tt0109504</td>\n      <td>13642861.0</td>\n      <td>14000000.0</td>\n      <td>1994-05-13</td>\n      <td>115.0</td>\n    </tr>\n    <tr>\n      <th>543</th>\n      <td>https://en.wikipedia.org/wiki/Love_Crimes_(199...</td>\n      <td>1992</td>\n      <td>https://www.imdb.com/title/tt0102340/</td>\n      <td>Love Crimes</td>\n      <td>NaN</td>\n      <td>[Sean Young, Patrick Bergin, Arnetia Walker, J...</td>\n      <td>Jack N. Green</td>\n      <td>[January 24, 1992, (, 1992-01-24, )]</td>\n      <td>United States</td>\n      <td>English</td>\n      <td>...</td>\n      <td>[Nicholas C. Smith, Mike Jackson]</td>\n      <td>Graeme Revell</td>\n      <td>[Lizzie Borden, Rudy Langlais]</td>\n      <td>NaN</td>\n      <td>[Screenplay:, Allan Moyle, Laurie Frank, Story...</td>\n      <td>tt0102340</td>\n      <td>2287928.0</td>\n      <td>6000000.0</td>\n      <td>1992-01-24</td>\n      <td>84.0</td>\n    </tr>\n    <tr>\n      <th>2052</th>\n      <td>https://en.wikipedia.org/wiki/She%27s_So_Lovely</td>\n      <td>1997</td>\n      <td>https://www.imdb.com/title/tt0120112/</td>\n      <td>She's So Lovely</td>\n      <td>NaN</td>\n      <td>[Sean Penn, Robin Wright Penn, Harry Dean Stan...</td>\n      <td>Thierry Arbogast</td>\n      <td>[August 29, 1997, (, 1997-08-29, )]</td>\n      <td>United States</td>\n      <td>English</td>\n      <td>...</td>\n      <td>Petra von Oelffen</td>\n      <td>Joseph Vitarelli</td>\n      <td>René Cleitman</td>\n      <td>NaN</td>\n      <td>John Cassavetes</td>\n      <td>tt0120112</td>\n      <td>7281450.0</td>\n      <td>18000000.0</td>\n      <td>1997-08-29</td>\n      <td>100.0</td>\n    </tr>\n    <tr>\n      <th>1520</th>\n      <td>https://en.wikipedia.org/wiki/Dear_God_(film)</td>\n      <td>1996</td>\n      <td>https://www.imdb.com/title/tt0116059/</td>\n      <td>Dear God</td>\n      <td>NaN</td>\n      <td>[Greg Kinnear, Laurie Metcalf, Maria Pitillo, ...</td>\n      <td>Charles Minsky</td>\n      <td>November 1, 1996</td>\n      <td>United States</td>\n      <td>English</td>\n      <td>...</td>\n      <td>Debra Neil-Fisher</td>\n      <td>[James Patrick Dunne, Jeremy Lubbock]</td>\n      <td>Mario Iscovich</td>\n      <td>Rysher Entertainment</td>\n      <td>[Warren Leight, Ed Kaplan]</td>\n      <td>tt0116059</td>\n      <td>7138523.0</td>\n      <td>22000000.0</td>\n      <td>1996-11-01</td>\n      <td>112.0</td>\n    </tr>\n  </tbody>\n</table>\n<p>5 rows × 22 columns</p>\n</div>"
     },
     "execution_count": 48,
     "metadata": {},
     "output_type": "execute_result"
    }
   ],
   "source": [
    "wiki_movies_df.sample(n=5)"
   ],
   "metadata": {
    "collapsed": false,
    "pycharm": {
     "name": "#%%\n"
    }
   }
  },
  {
   "cell_type": "markdown",
   "source": [],
   "metadata": {
    "collapsed": false,
    "pycharm": {
     "name": "#%% md\n"
    }
   }
  },
  {
   "cell_type": "markdown",
   "source": [
    "### Clean Kaggle Data"
   ],
   "metadata": {
    "collapsed": false,
    "pycharm": {
     "name": "#%% md\n"
    }
   }
  },
  {
   "cell_type": "code",
   "execution_count": 49,
   "outputs": [
    {
     "data": {
      "text/plain": "adult                     object\nbelongs_to_collection     object\nbudget                    object\ngenres                    object\nhomepage                  object\nid                        object\nimdb_id                   object\noriginal_language         object\noriginal_title            object\noverview                  object\npopularity                object\nposter_path               object\nproduction_companies      object\nproduction_countries      object\nrelease_date              object\nrevenue                  float64\nruntime                  float64\nspoken_languages          object\nstatus                    object\ntagline                   object\ntitle                     object\nvideo                     object\nvote_average             float64\nvote_count               float64\ndtype: object"
     },
     "execution_count": 49,
     "metadata": {},
     "output_type": "execute_result"
    }
   ],
   "source": [
    "kaggle_metadata.dtypes"
   ],
   "metadata": {
    "collapsed": false,
    "pycharm": {
     "name": "#%%\n"
    }
   }
  },
  {
   "cell_type": "code",
   "execution_count": 50,
   "outputs": [
    {
     "data": {
      "text/plain": "False                                                                                                                             45454\nTrue                                                                                                                                  9\n - Written by Ørnås                                                                                                                   1\n Rune Balot goes to a casino connected to the October corporation to try to wrap up her case once and for all.                        1\n Avalanche Sharks tells the story of a bikini contest that turns into a horrifying affair when it is hit by a shark avalanche.        1\nName: adult, dtype: int64"
     },
     "execution_count": 50,
     "metadata": {},
     "output_type": "execute_result"
    }
   ],
   "source": [
    "# Check that all 'adult' values are True or False before converting to Boolean\n",
    "kaggle_metadata['adult'].value_counts()"
   ],
   "metadata": {
    "collapsed": false,
    "pycharm": {
     "name": "#%%\n"
    }
   }
  },
  {
   "cell_type": "code",
   "execution_count": 51,
   "outputs": [
    {
     "data": {
      "text/plain": "                                                   adult  \\\n19730                                 - Written by Ørnås   \n29503   Rune Balot goes to a casino connected to the ...   \n35587   Avalanche Sharks tells the story of a bikini ...   \n\n      belongs_to_collection                            budget  \\\n19730              0.065736  /ff9qCepilowshEtG2GYWwzt2bs4.jpg   \n29503              1.931659  /zV8bHuSL6WXoD6FWogP9j4x80bL.jpg   \n35587              2.185485  /zaSf5OG7V8X8gqFvly88zDdRm46.jpg   \n\n                                                  genres  \\\n19730  [{'name': 'Carousel Productions', 'id': 11176}...   \n29503  [{'name': 'Aniplex', 'id': 2883}, {'name': 'Go...   \n35587  [{'name': 'Odyssey Media', 'id': 17161}, {'nam...   \n\n                                                homepage          id imdb_id  \\\n19730  [{'iso_3166_1': 'CA', 'name': 'Canada'}, {'iso...  1997-08-20       0   \n29503  [{'iso_3166_1': 'US', 'name': 'United States o...  2012-09-29       0   \n35587           [{'iso_3166_1': 'CA', 'name': 'Canada'}]  2014-01-01       0   \n\n      original_language                            original_title  overview  \\\n19730             104.0  [{'iso_639_1': 'en', 'name': 'English'}]  Released   \n29503              68.0      [{'iso_639_1': 'ja', 'name': '日本語'}]  Released   \n35587              82.0  [{'iso_639_1': 'en', 'name': 'English'}]  Released   \n\n       ... release_date revenue runtime spoken_languages status  tagline  \\\n19730  ...            1     NaN     NaN              NaN    NaN      NaN   \n29503  ...           12     NaN     NaN              NaN    NaN      NaN   \n35587  ...           22     NaN     NaN              NaN    NaN      NaN   \n\n       title video vote_average vote_count  \n19730    NaN   NaN          NaN        NaN  \n29503    NaN   NaN          NaN        NaN  \n35587    NaN   NaN          NaN        NaN  \n\n[3 rows x 24 columns]",
      "text/html": "<div>\n<style scoped>\n    .dataframe tbody tr th:only-of-type {\n        vertical-align: middle;\n    }\n\n    .dataframe tbody tr th {\n        vertical-align: top;\n    }\n\n    .dataframe thead th {\n        text-align: right;\n    }\n</style>\n<table border=\"1\" class=\"dataframe\">\n  <thead>\n    <tr style=\"text-align: right;\">\n      <th></th>\n      <th>adult</th>\n      <th>belongs_to_collection</th>\n      <th>budget</th>\n      <th>genres</th>\n      <th>homepage</th>\n      <th>id</th>\n      <th>imdb_id</th>\n      <th>original_language</th>\n      <th>original_title</th>\n      <th>overview</th>\n      <th>...</th>\n      <th>release_date</th>\n      <th>revenue</th>\n      <th>runtime</th>\n      <th>spoken_languages</th>\n      <th>status</th>\n      <th>tagline</th>\n      <th>title</th>\n      <th>video</th>\n      <th>vote_average</th>\n      <th>vote_count</th>\n    </tr>\n  </thead>\n  <tbody>\n    <tr>\n      <th>19730</th>\n      <td>- Written by Ørnås</td>\n      <td>0.065736</td>\n      <td>/ff9qCepilowshEtG2GYWwzt2bs4.jpg</td>\n      <td>[{'name': 'Carousel Productions', 'id': 11176}...</td>\n      <td>[{'iso_3166_1': 'CA', 'name': 'Canada'}, {'iso...</td>\n      <td>1997-08-20</td>\n      <td>0</td>\n      <td>104.0</td>\n      <td>[{'iso_639_1': 'en', 'name': 'English'}]</td>\n      <td>Released</td>\n      <td>...</td>\n      <td>1</td>\n      <td>NaN</td>\n      <td>NaN</td>\n      <td>NaN</td>\n      <td>NaN</td>\n      <td>NaN</td>\n      <td>NaN</td>\n      <td>NaN</td>\n      <td>NaN</td>\n      <td>NaN</td>\n    </tr>\n    <tr>\n      <th>29503</th>\n      <td>Rune Balot goes to a casino connected to the ...</td>\n      <td>1.931659</td>\n      <td>/zV8bHuSL6WXoD6FWogP9j4x80bL.jpg</td>\n      <td>[{'name': 'Aniplex', 'id': 2883}, {'name': 'Go...</td>\n      <td>[{'iso_3166_1': 'US', 'name': 'United States o...</td>\n      <td>2012-09-29</td>\n      <td>0</td>\n      <td>68.0</td>\n      <td>[{'iso_639_1': 'ja', 'name': '日本語'}]</td>\n      <td>Released</td>\n      <td>...</td>\n      <td>12</td>\n      <td>NaN</td>\n      <td>NaN</td>\n      <td>NaN</td>\n      <td>NaN</td>\n      <td>NaN</td>\n      <td>NaN</td>\n      <td>NaN</td>\n      <td>NaN</td>\n      <td>NaN</td>\n    </tr>\n    <tr>\n      <th>35587</th>\n      <td>Avalanche Sharks tells the story of a bikini ...</td>\n      <td>2.185485</td>\n      <td>/zaSf5OG7V8X8gqFvly88zDdRm46.jpg</td>\n      <td>[{'name': 'Odyssey Media', 'id': 17161}, {'nam...</td>\n      <td>[{'iso_3166_1': 'CA', 'name': 'Canada'}]</td>\n      <td>2014-01-01</td>\n      <td>0</td>\n      <td>82.0</td>\n      <td>[{'iso_639_1': 'en', 'name': 'English'}]</td>\n      <td>Released</td>\n      <td>...</td>\n      <td>22</td>\n      <td>NaN</td>\n      <td>NaN</td>\n      <td>NaN</td>\n      <td>NaN</td>\n      <td>NaN</td>\n      <td>NaN</td>\n      <td>NaN</td>\n      <td>NaN</td>\n      <td>NaN</td>\n    </tr>\n  </tbody>\n</table>\n<p>3 rows × 24 columns</p>\n</div>"
     },
     "execution_count": 51,
     "metadata": {},
     "output_type": "execute_result"
    }
   ],
   "source": [
    "# Return all rows that contain values other than 'True' or 'False' in the 'adult' column\n",
    "kaggle_metadata[~kaggle_metadata['adult'].isin(['True', 'False'])]"
   ],
   "metadata": {
    "collapsed": false,
    "pycharm": {
     "name": "#%%\n"
    }
   }
  },
  {
   "cell_type": "code",
   "execution_count": 54,
   "outputs": [
    {
     "data": {
      "text/plain": "                                                   adult  \\\n19730                                 - Written by Ørnås   \n29503   Rune Balot goes to a casino connected to the ...   \n35587   Avalanche Sharks tells the story of a bikini ...   \n\n      belongs_to_collection                            budget  \\\n19730              0.065736  /ff9qCepilowshEtG2GYWwzt2bs4.jpg   \n29503              1.931659  /zV8bHuSL6WXoD6FWogP9j4x80bL.jpg   \n35587              2.185485  /zaSf5OG7V8X8gqFvly88zDdRm46.jpg   \n\n                                                  genres  \\\n19730  [{'name': 'Carousel Productions', 'id': 11176}...   \n29503  [{'name': 'Aniplex', 'id': 2883}, {'name': 'Go...   \n35587  [{'name': 'Odyssey Media', 'id': 17161}, {'nam...   \n\n                                                homepage          id imdb_id  \\\n19730  [{'iso_3166_1': 'CA', 'name': 'Canada'}, {'iso...  1997-08-20       0   \n29503  [{'iso_3166_1': 'US', 'name': 'United States o...  2012-09-29       0   \n35587           [{'iso_3166_1': 'CA', 'name': 'Canada'}]  2014-01-01       0   \n\n      original_language                            original_title  overview  \\\n19730             104.0  [{'iso_639_1': 'en', 'name': 'English'}]  Released   \n29503              68.0      [{'iso_639_1': 'ja', 'name': '日本語'}]  Released   \n35587              82.0  [{'iso_639_1': 'en', 'name': 'English'}]  Released   \n\n       ... release_date revenue runtime spoken_languages status  tagline  \\\n19730  ...            1     NaN     NaN              NaN    NaN      NaN   \n29503  ...           12     NaN     NaN              NaN    NaN      NaN   \n35587  ...           22     NaN     NaN              NaN    NaN      NaN   \n\n       title video vote_average vote_count  \n19730    NaN   NaN          NaN        NaN  \n29503    NaN   NaN          NaN        NaN  \n35587    NaN   NaN          NaN        NaN  \n\n[3 rows x 24 columns]",
      "text/html": "<div>\n<style scoped>\n    .dataframe tbody tr th:only-of-type {\n        vertical-align: middle;\n    }\n\n    .dataframe tbody tr th {\n        vertical-align: top;\n    }\n\n    .dataframe thead th {\n        text-align: right;\n    }\n</style>\n<table border=\"1\" class=\"dataframe\">\n  <thead>\n    <tr style=\"text-align: right;\">\n      <th></th>\n      <th>adult</th>\n      <th>belongs_to_collection</th>\n      <th>budget</th>\n      <th>genres</th>\n      <th>homepage</th>\n      <th>id</th>\n      <th>imdb_id</th>\n      <th>original_language</th>\n      <th>original_title</th>\n      <th>overview</th>\n      <th>...</th>\n      <th>release_date</th>\n      <th>revenue</th>\n      <th>runtime</th>\n      <th>spoken_languages</th>\n      <th>status</th>\n      <th>tagline</th>\n      <th>title</th>\n      <th>video</th>\n      <th>vote_average</th>\n      <th>vote_count</th>\n    </tr>\n  </thead>\n  <tbody>\n    <tr>\n      <th>19730</th>\n      <td>- Written by Ørnås</td>\n      <td>0.065736</td>\n      <td>/ff9qCepilowshEtG2GYWwzt2bs4.jpg</td>\n      <td>[{'name': 'Carousel Productions', 'id': 11176}...</td>\n      <td>[{'iso_3166_1': 'CA', 'name': 'Canada'}, {'iso...</td>\n      <td>1997-08-20</td>\n      <td>0</td>\n      <td>104.0</td>\n      <td>[{'iso_639_1': 'en', 'name': 'English'}]</td>\n      <td>Released</td>\n      <td>...</td>\n      <td>1</td>\n      <td>NaN</td>\n      <td>NaN</td>\n      <td>NaN</td>\n      <td>NaN</td>\n      <td>NaN</td>\n      <td>NaN</td>\n      <td>NaN</td>\n      <td>NaN</td>\n      <td>NaN</td>\n    </tr>\n    <tr>\n      <th>29503</th>\n      <td>Rune Balot goes to a casino connected to the ...</td>\n      <td>1.931659</td>\n      <td>/zV8bHuSL6WXoD6FWogP9j4x80bL.jpg</td>\n      <td>[{'name': 'Aniplex', 'id': 2883}, {'name': 'Go...</td>\n      <td>[{'iso_3166_1': 'US', 'name': 'United States o...</td>\n      <td>2012-09-29</td>\n      <td>0</td>\n      <td>68.0</td>\n      <td>[{'iso_639_1': 'ja', 'name': '日本語'}]</td>\n      <td>Released</td>\n      <td>...</td>\n      <td>12</td>\n      <td>NaN</td>\n      <td>NaN</td>\n      <td>NaN</td>\n      <td>NaN</td>\n      <td>NaN</td>\n      <td>NaN</td>\n      <td>NaN</td>\n      <td>NaN</td>\n      <td>NaN</td>\n    </tr>\n    <tr>\n      <th>35587</th>\n      <td>Avalanche Sharks tells the story of a bikini ...</td>\n      <td>2.185485</td>\n      <td>/zaSf5OG7V8X8gqFvly88zDdRm46.jpg</td>\n      <td>[{'name': 'Odyssey Media', 'id': 17161}, {'nam...</td>\n      <td>[{'iso_3166_1': 'CA', 'name': 'Canada'}]</td>\n      <td>2014-01-01</td>\n      <td>0</td>\n      <td>82.0</td>\n      <td>[{'iso_639_1': 'en', 'name': 'English'}]</td>\n      <td>Released</td>\n      <td>...</td>\n      <td>22</td>\n      <td>NaN</td>\n      <td>NaN</td>\n      <td>NaN</td>\n      <td>NaN</td>\n      <td>NaN</td>\n      <td>NaN</td>\n      <td>NaN</td>\n      <td>NaN</td>\n      <td>NaN</td>\n    </tr>\n  </tbody>\n</table>\n<p>3 rows × 24 columns</p>\n</div>"
     },
     "execution_count": 54,
     "metadata": {},
     "output_type": "execute_result"
    }
   ],
   "source": [
    "kaggle_metadata[~kaggle_metadata['adult'].isin(['True','False'])]"
   ],
   "metadata": {
    "collapsed": false,
    "pycharm": {
     "name": "#%%\n"
    }
   }
  },
  {
   "cell_type": "code",
   "execution_count": 57,
   "outputs": [],
   "source": [
    "kaggle_metadata = kaggle_metadata[kaggle_metadata['adult'] == 'False'].drop('adult', axis='columns')"
   ],
   "metadata": {
    "collapsed": false,
    "pycharm": {
     "name": "#%%\n"
    }
   }
  },
  {
   "cell_type": "code",
   "execution_count": 58,
   "outputs": [
    {
     "data": {
      "text/plain": "False    45358\nTrue        93\nName: video, dtype: int64"
     },
     "execution_count": 58,
     "metadata": {},
     "output_type": "execute_result"
    }
   ],
   "source": [
    "kaggle_metadata['video'].value_counts()"
   ],
   "metadata": {
    "collapsed": false,
    "pycharm": {
     "name": "#%%\n"
    }
   }
  },
  {
   "cell_type": "code",
   "execution_count": 60,
   "outputs": [
    {
     "data": {
      "text/plain": "0        False\n1        False\n2        False\n3        False\n4        False\n         ...  \n45461    False\n45462    False\n45463    False\n45464    False\n45465    False\nName: video, Length: 45454, dtype: bool"
     },
     "execution_count": 60,
     "metadata": {},
     "output_type": "execute_result"
    }
   ],
   "source": [
    "kaggle_metadata['video'] == 'True'"
   ],
   "metadata": {
    "collapsed": false,
    "pycharm": {
     "name": "#%%\n"
    }
   }
  },
  {
   "cell_type": "code",
   "execution_count": 61,
   "outputs": [],
   "source": [
    "kaggle_metadata['video'] = kaggle_metadata['video'] == 'True'"
   ],
   "metadata": {
    "collapsed": false,
    "pycharm": {
     "name": "#%%\n"
    }
   }
  },
  {
   "cell_type": "code",
   "execution_count": 63,
   "outputs": [],
   "source": [
    "kaggle_metadata['budget'] = kaggle_metadata['budget'].astype(int)\n",
    "kaggle_metadata['id'] = pd.to_numeric(kaggle_metadata['id'], errors='raise')\n",
    "kaggle_metadata['popularity'] = pd.to_numeric(kaggle_metadata['popularity'], errors='raise')"
   ],
   "metadata": {
    "collapsed": false,
    "pycharm": {
     "name": "#%%\n"
    }
   }
  },
  {
   "cell_type": "code",
   "execution_count": 64,
   "outputs": [],
   "source": [
    "kaggle_metadata['release_date'] = pd.to_datetime(kaggle_metadata['release_date'])"
   ],
   "metadata": {
    "collapsed": false,
    "pycharm": {
     "name": "#%%\n"
    }
   }
  },
  {
   "cell_type": "code",
   "execution_count": 65,
   "outputs": [
    {
     "name": "stderr",
     "output_type": "stream",
     "text": [
      "C:\\Users\\Jack\\anaconda3\\envs\\PythonData\\lib\\site-packages\\ipykernel_launcher.py:1: FutureWarning: null_counts is deprecated. Use show_counts instead\n",
      "  \"\"\"Entry point for launching an IPython kernel.\n"
     ]
    },
    {
     "name": "stdout",
     "output_type": "stream",
     "text": [
      "<class 'pandas.core.frame.DataFrame'>\n",
      "RangeIndex: 26024289 entries, 0 to 26024288\n",
      "Data columns (total 4 columns):\n",
      " #   Column     Non-Null Count     Dtype  \n",
      "---  ------     --------------     -----  \n",
      " 0   userId     26024289 non-null  int64  \n",
      " 1   movieId    26024289 non-null  int64  \n",
      " 2   rating     26024289 non-null  float64\n",
      " 3   timestamp  26024289 non-null  int64  \n",
      "dtypes: float64(1), int64(3)\n",
      "memory usage: 794.2 MB\n"
     ]
    }
   ],
   "source": [
    "ratings.info(null_counts=True)"
   ],
   "metadata": {
    "collapsed": false,
    "pycharm": {
     "name": "#%%\n"
    }
   }
  },
  {
   "cell_type": "code",
   "execution_count": 66,
   "outputs": [
    {
     "data": {
      "text/plain": "0          2015-03-09 22:52:09\n1          2015-03-09 23:07:15\n2          2015-03-09 22:52:03\n3          2015-03-09 22:52:26\n4          2015-03-09 22:52:36\n                   ...        \n26024284   2009-10-31 23:26:04\n26024285   2009-10-31 23:33:52\n26024286   2009-10-31 23:29:24\n26024287   2009-11-01 00:06:30\n26024288   2009-10-31 23:30:58\nName: timestamp, Length: 26024289, dtype: datetime64[ns]"
     },
     "execution_count": 66,
     "metadata": {},
     "output_type": "execute_result"
    }
   ],
   "source": [
    "pd.to_datetime(ratings['timestamp'], unit='s')"
   ],
   "metadata": {
    "collapsed": false,
    "pycharm": {
     "name": "#%%\n"
    }
   }
  },
  {
   "cell_type": "code",
   "execution_count": 67,
   "outputs": [],
   "source": [
    "ratings['timestamp'] = pd.to_datetime(ratings['timestamp'], unit='s')"
   ],
   "metadata": {
    "collapsed": false,
    "pycharm": {
     "name": "#%%\n"
    }
   }
  },
  {
   "cell_type": "code",
   "execution_count": 69,
   "outputs": [
    {
     "data": {
      "text/plain": "count          26,024,289.00\nmean                    3.53\nstd                     1.07\nmin                     0.50\n25%                     3.00\n50%                     3.50\n75%                     4.00\nmax                     5.00\nName: rating, dtype: float64"
     },
     "execution_count": 69,
     "metadata": {},
     "output_type": "execute_result"
    },
    {
     "data": {
      "text/plain": "<Figure size 432x288 with 1 Axes>",
      "image/png": "[encoded data removed]"
     },
     "metadata": {
      "needs_background": "light"
     },
     "output_type": "display_data"
    }
   ],
   "source": [
    "pd.options.display.float_format = '{:20,.2f}'.format\n",
    "ratings['rating'].plot(kind='hist')\n",
    "ratings['rating'].describe()"
   ],
   "metadata": {
    "collapsed": false,
    "pycharm": {
     "name": "#%%\n"
    }
   }
  },
  {
   "cell_type": "code",
   "execution_count": null,
   "outputs": [],
   "source": [],
   "metadata": {
    "collapsed": false,
    "pycharm": {
     "name": "#%%\n"
    }
   }
  }
 ],
 "metadata": {
  "kernelspec": {
   "display_name": "Python 3",
   "language": "python",
   "name": "python3"
  },
  "language_info": {
   "codemirror_mode": {
    "name": "ipython",
    "version": 2
   },
   "file_extension": ".py",
   "mimetype": "text/x-python",
   "name": "python",
   "nbconvert_exporter": "python",
   "pygments_lexer": "ipython2",
   "version": "2.7.6"
  }
 },
 "nbformat": 4,
 "nbformat_minor": 0
}